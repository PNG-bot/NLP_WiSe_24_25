{
  "nbformat": 4,
  "nbformat_minor": 0,
  "metadata": {
    "colab": {
      "provenance": [],
      "authorship_tag": "ABX9TyNw5RM3gMvViRTf+Kz1aTSi",
      "include_colab_link": true
    },
    "kernelspec": {
      "name": "python3",
      "display_name": "Python 3"
    },
    "language_info": {
      "name": "python"
    }
  },
  "cells": [
    {
      "cell_type": "markdown",
      "metadata": {
        "id": "view-in-github",
        "colab_type": "text"
      },
      "source": [
        "<a href=\"https://colab.research.google.com/github/PNG-bot/NLP_WiSe_24_25/blob/MUFF_NLP_24_25/eigenes_projekt/eigenes_projekt_zeitschriften_einlesen.ipynb\" target=\"_parent\"><img src=\"https://colab.research.google.com/assets/colab-badge.svg\" alt=\"Open In Colab\"/></a>"
      ]
    },
    {
      "cell_type": "markdown",
      "source": [
        "# Eigenes Projekt - Zeitschriften aus DZA einlesen"
      ],
      "metadata": {
        "id": "F4OJMDKqnd4Q"
      }
    },
    {
      "cell_type": "code",
      "execution_count": null,
      "metadata": {
        "id": "dS5wYW0nncCv"
      },
      "outputs": [],
      "source": []
    }
  ]
}